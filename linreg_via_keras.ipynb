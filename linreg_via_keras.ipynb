{
 "cells": [
  {
   "cell_type": "markdown",
   "id": "d5ce445e-b6c1-49e5-8193-30f80d9e5071",
   "metadata": {},
   "source": [
    "# Base the lineair regression example on:\n",
    "\n",
    "https://www.tensorflow.org/tutorials/keras/regression"
   ]
  },
  {
   "cell_type": "code",
   "execution_count": 21,
   "id": "9edd5879-d10d-4652-846c-62f2c14508db",
   "metadata": {},
   "outputs": [],
   "source": [
    "import keras\n",
    "import pandas as pd\n",
    "import seaborn as sns\n",
    "import numpy as np\n",
    "from tensorflow import keras\n",
    "from plotnine import *"
   ]
  },
  {
   "cell_type": "code",
   "execution_count": 6,
   "id": "30e46b76-ec61-4fd1-85ad-12cc16a11c06",
   "metadata": {},
   "outputs": [
    {
     "data": {
      "text/html": [
       "<div>\n",
       "<style scoped>\n",
       "    .dataframe tbody tr th:only-of-type {\n",
       "        vertical-align: middle;\n",
       "    }\n",
       "\n",
       "    .dataframe tbody tr th {\n",
       "        vertical-align: top;\n",
       "    }\n",
       "\n",
       "    .dataframe thead th {\n",
       "        text-align: right;\n",
       "    }\n",
       "</style>\n",
       "<table border=\"1\" class=\"dataframe\">\n",
       "  <thead>\n",
       "    <tr style=\"text-align: right;\">\n",
       "      <th></th>\n",
       "      <th>MPG</th>\n",
       "      <th>Cylinders</th>\n",
       "      <th>Displacement</th>\n",
       "      <th>Horsepower</th>\n",
       "      <th>Weight</th>\n",
       "      <th>Acceleration</th>\n",
       "      <th>Model Year</th>\n",
       "      <th>Origin</th>\n",
       "    </tr>\n",
       "  </thead>\n",
       "  <tbody>\n",
       "    <tr>\n",
       "      <th>0</th>\n",
       "      <td>18.0</td>\n",
       "      <td>8</td>\n",
       "      <td>307.0</td>\n",
       "      <td>130.0</td>\n",
       "      <td>3504.0</td>\n",
       "      <td>12.0</td>\n",
       "      <td>70</td>\n",
       "      <td>1</td>\n",
       "    </tr>\n",
       "    <tr>\n",
       "      <th>1</th>\n",
       "      <td>15.0</td>\n",
       "      <td>8</td>\n",
       "      <td>350.0</td>\n",
       "      <td>165.0</td>\n",
       "      <td>3693.0</td>\n",
       "      <td>11.5</td>\n",
       "      <td>70</td>\n",
       "      <td>1</td>\n",
       "    </tr>\n",
       "    <tr>\n",
       "      <th>2</th>\n",
       "      <td>18.0</td>\n",
       "      <td>8</td>\n",
       "      <td>318.0</td>\n",
       "      <td>150.0</td>\n",
       "      <td>3436.0</td>\n",
       "      <td>11.0</td>\n",
       "      <td>70</td>\n",
       "      <td>1</td>\n",
       "    </tr>\n",
       "    <tr>\n",
       "      <th>3</th>\n",
       "      <td>16.0</td>\n",
       "      <td>8</td>\n",
       "      <td>304.0</td>\n",
       "      <td>150.0</td>\n",
       "      <td>3433.0</td>\n",
       "      <td>12.0</td>\n",
       "      <td>70</td>\n",
       "      <td>1</td>\n",
       "    </tr>\n",
       "    <tr>\n",
       "      <th>4</th>\n",
       "      <td>17.0</td>\n",
       "      <td>8</td>\n",
       "      <td>302.0</td>\n",
       "      <td>140.0</td>\n",
       "      <td>3449.0</td>\n",
       "      <td>10.5</td>\n",
       "      <td>70</td>\n",
       "      <td>1</td>\n",
       "    </tr>\n",
       "  </tbody>\n",
       "</table>\n",
       "</div>"
      ],
      "text/plain": [
       "    MPG  Cylinders  Displacement  Horsepower  Weight  Acceleration  \\\n",
       "0  18.0          8         307.0       130.0  3504.0          12.0   \n",
       "1  15.0          8         350.0       165.0  3693.0          11.5   \n",
       "2  18.0          8         318.0       150.0  3436.0          11.0   \n",
       "3  16.0          8         304.0       150.0  3433.0          12.0   \n",
       "4  17.0          8         302.0       140.0  3449.0          10.5   \n",
       "\n",
       "   Model Year  Origin  \n",
       "0          70       1  \n",
       "1          70       1  \n",
       "2          70       1  \n",
       "3          70       1  \n",
       "4          70       1  "
      ]
     },
     "execution_count": 6,
     "metadata": {},
     "output_type": "execute_result"
    }
   ],
   "source": [
    "url = 'http://archive.ics.uci.edu/ml/machine-learning-databases/auto-mpg/auto-mpg.data'\n",
    "column_names = ['MPG', 'Cylinders', 'Displacement', 'Horsepower', 'Weight',\n",
    "                'Acceleration', 'Model Year', 'Origin']\n",
    "\n",
    "mtcars = pd.read_csv(url, names=column_names,\n",
    "                          na_values='?', comment='\\t',\n",
    "                          sep=' ', skipinitialspace=True)\n",
    "mtcars.head()"
   ]
  },
  {
   "cell_type": "code",
   "execution_count": 208,
   "id": "9a2f2de1-2453-4a91-96ad-dd2dd5151088",
   "metadata": {},
   "outputs": [],
   "source": [
    "mtcars.to_csv('mtcars.csv', index=False)"
   ]
  },
  {
   "cell_type": "code",
   "execution_count": 212,
   "id": "63e664fa-51ce-48c1-bd67-db580a7c8b83",
   "metadata": {},
   "outputs": [
    {
     "name": "stderr",
     "output_type": "stream",
     "text": [
      "/usr/local/lib/python3.8/dist-packages/plotnine/ggplot.py:719: PlotnineWarning: Saving 6.4 x 4.8 in image.\n",
      "/usr/local/lib/python3.8/dist-packages/plotnine/ggplot.py:722: PlotnineWarning: Filename: scatterplot.png\n"
     ]
    }
   ],
   "source": [
    "gg = (\n",
    "    ggplot(mtcars) + geom_point(aes(x='Weight', y='MPG'))\n",
    ")\n",
    "ggsave(gg, 'scatterplot.png', dpi=200)"
   ]
  },
  {
   "cell_type": "markdown",
   "id": "71ec95b9-f601-42f8-a056-54304b6c8c02",
   "metadata": {},
   "source": [
    "# Normalize data\n",
    "This is needed, Keras becomes very unstable without it. "
   ]
  },
  {
   "cell_type": "code",
   "execution_count": 206,
   "id": "94ff53bb-d7ab-48d0-b4d9-7c1c6b892c37",
   "metadata": {},
   "outputs": [],
   "source": [
    "from tensorflow.keras.layers import Normalization\n",
    "\n",
    "# This needs to be added in front, or the solution will be very unstable\n",
    "normalizer = Normalization(input_shape=[1,], axis=None)\n",
    "normalizer.adapt(mtcars['Weight'])\n",
    "\n",
    "mtcars['Weight_norm'] = np.array(normalizer(mtcars['Weight'])).flatten()"
   ]
  },
  {
   "cell_type": "code",
   "execution_count": 181,
   "id": "18e44d5f-4267-463b-ad50-33822cf38767",
   "metadata": {},
   "outputs": [
    {
     "data": {
      "text/html": [
       "<div>\n",
       "<style scoped>\n",
       "    .dataframe tbody tr th:only-of-type {\n",
       "        vertical-align: middle;\n",
       "    }\n",
       "\n",
       "    .dataframe tbody tr th {\n",
       "        vertical-align: top;\n",
       "    }\n",
       "\n",
       "    .dataframe thead th {\n",
       "        text-align: right;\n",
       "    }\n",
       "</style>\n",
       "<table border=\"1\" class=\"dataframe\">\n",
       "  <thead>\n",
       "    <tr style=\"text-align: right;\">\n",
       "      <th></th>\n",
       "      <th>MPG</th>\n",
       "      <th>Cylinders</th>\n",
       "      <th>Displacement</th>\n",
       "      <th>Horsepower</th>\n",
       "      <th>Weight</th>\n",
       "      <th>Acceleration</th>\n",
       "      <th>Model Year</th>\n",
       "      <th>Origin</th>\n",
       "      <th>Weight_norm</th>\n",
       "    </tr>\n",
       "  </thead>\n",
       "  <tbody>\n",
       "    <tr>\n",
       "      <th>181</th>\n",
       "      <td>33.0</td>\n",
       "      <td>4</td>\n",
       "      <td>91.0</td>\n",
       "      <td>53.0</td>\n",
       "      <td>1795.0</td>\n",
       "      <td>17.5</td>\n",
       "      <td>75</td>\n",
       "      <td>3</td>\n",
       "      <td>-1.389757</td>\n",
       "    </tr>\n",
       "    <tr>\n",
       "      <th>245</th>\n",
       "      <td>36.1</td>\n",
       "      <td>4</td>\n",
       "      <td>98.0</td>\n",
       "      <td>66.0</td>\n",
       "      <td>1800.0</td>\n",
       "      <td>14.4</td>\n",
       "      <td>78</td>\n",
       "      <td>1</td>\n",
       "      <td>-1.383845</td>\n",
       "    </tr>\n",
       "    <tr>\n",
       "      <th>137</th>\n",
       "      <td>13.0</td>\n",
       "      <td>8</td>\n",
       "      <td>350.0</td>\n",
       "      <td>150.0</td>\n",
       "      <td>4699.0</td>\n",
       "      <td>14.5</td>\n",
       "      <td>74</td>\n",
       "      <td>1</td>\n",
       "      <td>2.043772</td>\n",
       "    </tr>\n",
       "    <tr>\n",
       "      <th>257</th>\n",
       "      <td>19.4</td>\n",
       "      <td>6</td>\n",
       "      <td>232.0</td>\n",
       "      <td>90.0</td>\n",
       "      <td>3210.0</td>\n",
       "      <td>17.2</td>\n",
       "      <td>78</td>\n",
       "      <td>1</td>\n",
       "      <td>0.283261</td>\n",
       "    </tr>\n",
       "    <tr>\n",
       "      <th>7</th>\n",
       "      <td>14.0</td>\n",
       "      <td>8</td>\n",
       "      <td>440.0</td>\n",
       "      <td>215.0</td>\n",
       "      <td>4312.0</td>\n",
       "      <td>8.5</td>\n",
       "      <td>70</td>\n",
       "      <td>1</td>\n",
       "      <td>1.586204</td>\n",
       "    </tr>\n",
       "  </tbody>\n",
       "</table>\n",
       "</div>"
      ],
      "text/plain": [
       "      MPG  Cylinders  Displacement  Horsepower  Weight  Acceleration  \\\n",
       "181  33.0          4          91.0        53.0  1795.0          17.5   \n",
       "245  36.1          4          98.0        66.0  1800.0          14.4   \n",
       "137  13.0          8         350.0       150.0  4699.0          14.5   \n",
       "257  19.4          6         232.0        90.0  3210.0          17.2   \n",
       "7    14.0          8         440.0       215.0  4312.0           8.5   \n",
       "\n",
       "     Model Year  Origin  Weight_norm  \n",
       "181          75       3    -1.389757  \n",
       "245          78       1    -1.383845  \n",
       "137          74       1     2.043772  \n",
       "257          78       1     0.283261  \n",
       "7            70       1     1.586204  "
      ]
     },
     "execution_count": 181,
     "metadata": {},
     "output_type": "execute_result"
    }
   ],
   "source": [
    "from sklearn.model_selection import train_test_split\n",
    "train_data, test_data = train_test_split(mtcars, test_size=0.1)\n",
    "train_data.head()"
   ]
  },
  {
   "cell_type": "markdown",
   "id": "bcc59e0a-c80f-45b2-8125-51b854ad0e1d",
   "metadata": {},
   "source": [
    "# Keras neural network"
   ]
  },
  {
   "cell_type": "code",
   "execution_count": 188,
   "id": "ae236412-33ea-4933-9781-5c90a09478c1",
   "metadata": {},
   "outputs": [
    {
     "data": {
      "text/plain": [
       "[array([[-6.4612894]], dtype=float32), array([23.748787], dtype=float32)]"
      ]
     },
     "execution_count": 188,
     "metadata": {},
     "output_type": "execute_result"
    }
   ],
   "source": [
    "from tensorflow.keras.optimizers import Adam\n",
    "from tensorflow.keras import Input\n",
    "from tensorflow.keras.layers import Dense\n",
    "\n",
    "keras_mpg_weight = keras.Sequential([ \n",
    "    Input(shape=(1,)), \n",
    "    Dense(units=1)\n",
    "])\n",
    "\n",
    "keras_mpg_weight.compile(\n",
    "    optimizer=Adam(learning_rate=0.1),\n",
    "    loss='mean_squared_error')\n",
    "\n",
    "history = keras_mpg_weight.fit(\n",
    "    train_data['Weight_norm'], train_data['MPG'],\n",
    "    epochs=100, verbose=0, validation_split = 0.2)\n",
    "\n",
    "keras_mpg_weight.get_weights()"
   ]
  },
  {
   "cell_type": "markdown",
   "id": "c3d62a8f-8739-4ab3-a6ae-86d0cbf42c84",
   "metadata": {
    "tags": []
   },
   "source": [
    "# Statsmodels linear regression"
   ]
  },
  {
   "cell_type": "code",
   "execution_count": 189,
   "id": "3e0c04cd-7139-4701-85b2-810403a1f30a",
   "metadata": {},
   "outputs": [
    {
     "data": {
      "text/plain": [
       "Intercept      23.507012\n",
       "Weight_norm    -6.466620\n",
       "dtype: float64"
      ]
     },
     "execution_count": 189,
     "metadata": {},
     "output_type": "execute_result"
    }
   ],
   "source": [
    "from statsmodels.formula.api import ols\n",
    "\n",
    "train_data['Weight_norm'] = np.array(normalizer([train_data['Weight']])).flatten()\n",
    "ols_mpg_weight=ols(\"MPG ~ Weight_norm\", data=train_data).fit()\n",
    "ols_mpg_weight.params"
   ]
  },
  {
   "cell_type": "markdown",
   "id": "34f67747-7d10-43d0-85bf-69ebba4efefe",
   "metadata": {},
   "source": [
    "# Comparison"
   ]
  },
  {
   "cell_type": "code",
   "execution_count": 214,
   "id": "99004b35-82dd-49f5-907a-c62c17a453da",
   "metadata": {},
   "outputs": [
    {
     "name": "stderr",
     "output_type": "stream",
     "text": [
      "/usr/local/lib/python3.8/dist-packages/plotnine/ggplot.py:719: PlotnineWarning: Saving 6.4 x 4.8 in image.\n",
      "/usr/local/lib/python3.8/dist-packages/plotnine/ggplot.py:722: PlotnineWarning: Filename: residualplot.png\n"
     ]
    },
    {
     "data": {
      "image/png": "[encoded data removed]",
      "text/plain": [
       "<Figure size 640x480 with 1 Axes>"
      ]
     },
     "metadata": {},
     "output_type": "display_data"
    },
    {
     "data": {
      "text/plain": [
       "<ggplot: (8737291776549)>"
      ]
     },
     "execution_count": 214,
     "metadata": {},
     "output_type": "execute_result"
    }
   ],
   "source": [
    "from plotnine import *\n",
    "\n",
    "prediction_results = pd.DataFrame({'keras'     : keras_mpg_weight.predict(test_data['Weight_norm']).flatten(),\n",
    "                                   'ols'       : ols_mpg_weight.predict(test_data['Weight_norm']),\n",
    "                                   'reference' : test_data['MPG']})\n",
    "\n",
    "plot_data = (\n",
    "    prediction_results\n",
    "      .melt(id_vars='reference')\n",
    "      .assign(residual = lambda x: x['value'] - x['reference'])\n",
    ")\n",
    "\n",
    "gg = (\n",
    "    ggplot(plot_data) \n",
    "      + geom_hline(aes(yintercept = 0), alpha = 0.5)\n",
    "      + geom_point(aes(x='reference', y='residual', color='variable')) \n",
    ")\n",
    "\n",
    "ggsave(gg, 'residualplot.png', dpi=200)\n",
    "gg"
   ]
  }
 ],
 "metadata": {
  "kernelspec": {
   "display_name": "Python 3 (ipykernel)",
   "language": "python",
   "name": "python3"
  },
  "language_info": {
   "codemirror_mode": {
    "name": "ipython",
    "version": 3
   },
   "file_extension": ".py",
   "mimetype": "text/x-python",
   "name": "python",
   "nbconvert_exporter": "python",
   "pygments_lexer": "ipython3",
   "version": "3.8.10"
  }
 },
 "nbformat": 4,
 "nbformat_minor": 5
}
